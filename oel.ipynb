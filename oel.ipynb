import pandas as pd
import numpy as np
import matplotlib.pyplot as plt
import seaborn as sns
from sklearn.model_selection import train_test_split
from sklearn.preprocessing import StandardScaler
from sklearn.linear_model import LogisticRegression
from sklearn.ensemble import RandomForestClassifier
from sklearn.svm import SVC
from sklearn.metrics import accuracy_score, confusion_matrix, classification_report, roc_curve, roc_auc_score

# Load the dataset
url = "https://archive.ics.uci.edu/ml/machine-learning-databases/heart-disease/processed.cleveland.data"
names = ['age', 'sex', 'cp', 'trestbps', 'chol', 'fbs', 'restecg', 'thalach', 'exang', 'oldpeak', 'slope', 'ca', 'thal', 'num']
heart_data = pd.read_csv(url, names=names)

# Data preprocessing and exploration
# Replace missing values denoted by '?' with NaN and drop NaN rows
heart_data = heart_data.replace('?', np.nan)
heart_data = heart_data.dropna()

# Convert some columns to appropriate data types
to_convert = ['age', 'trestbps', 'chol', 'thalach', 'oldpeak']
heart_data.loc[:, to_convert] = heart_data[to_convert].astype(float)


# Convert categorical variables to dummy/indicator variables
cp = pd.get_dummies(heart_data['cp'], prefix='cp', drop_first=True)
restecg = pd.get_dummies(heart_data['restecg'], prefix='restecg', drop_first=True)
slope = pd.get_dummies(heart_data['slope'], prefix='slope', drop_first=True)
thal = pd.get_dummies(heart_data['thal'], prefix='thal', drop_first=True)
heart_data = pd.concat([heart_data, cp, restecg, slope, thal], axis=1)
heart_data.drop(['cp', 'restecg', 'slope', 'thal'], axis=1, inplace=True)

# Mapping target variable: num (presence of heart disease)
heart_data['target'] = heart_data['num'].apply(lambda x: 1 if x > 0 else 0)
heart_data.drop('num', axis=1, inplace=True)

# Separate features and target variable
X = heart_data.drop('target', axis=1)
y = heart_data['target']

# Splitting the dataset into training and testing sets
X_train, X_test, y_train, y_test = train_test_split(X, y, test_size=0.2, random_state=42)

# Standardize features by removing the mean and scaling to unit variance
scaler = StandardScaler()
X_train_scaled = scaler.fit_transform(X_train)
X_test_scaled = scaler.transform(X_test)

# Visualizations for EDA
plt.figure(figsize=(14, 7))

# Histograms of numerical variables
plt.subplot(2, 3, 1)
plt.hist(heart_data['age'], bins=20, edgecolor='black')
plt.title('Distribution of Age')
plt.xlabel('Age')
plt.ylabel('Frequency')

plt.subplot(2, 3, 2)
plt.hist(heart_data['trestbps'], bins=20, edgecolor='black')
plt.title('Distribution of Resting Blood Pressure (trestbps)')
plt.xlabel('Resting Blood Pressure')
plt.ylabel('Frequency')

plt.subplot(2, 3, 3)
plt.hist(heart_data['chol'], bins=20, edgecolor='black')
plt.title('Distribution of Serum Cholesterol (chol)')
plt.xlabel('Serum Cholesterol')
plt.ylabel('Frequency')

plt.subplot(2, 3, 4)
plt.hist(heart_data['thalach'], bins=20, edgecolor='black')
plt.title('Distribution of Maximum Heart Rate Achieved (thalach)')
plt.xlabel('Maximum Heart Rate')
plt.ylabel('Frequency')

plt.subplot(2, 3, 5)
plt.hist(heart_data['oldpeak'], bins=20, edgecolor='black')
plt.title('Distribution of ST Depression Induced by Exercise (oldpeak)')
plt.xlabel('ST Depression')
plt.ylabel('Frequency')

plt.tight_layout()
plt.show()

# Box plots for numerical variables
plt.figure(figsize=(14, 7))

plt.subplot(2, 3, 1)
sns.boxplot(x='target', y='age', data=heart_data)
plt.title('Age vs Target')

plt.subplot(2, 3, 2)
sns.boxplot(x='target', y='trestbps', data=heart_data)
plt.title('Resting Blood Pressure vs Target')

plt.subplot(2, 3, 3)
sns.boxplot(x='target', y='chol', data=heart_data)
plt.title('Serum Cholesterol vs Target')

plt.subplot(2, 3, 4)
sns.boxplot(x='target', y='thalach', data=heart_data)
plt.title('Maximum Heart Rate vs Target')

plt.subplot(2, 3, 5)
sns.boxplot(x='target', y='oldpeak', data=heart_data)
plt.title('ST Depression vs Target')

plt.tight_layout()
plt.show()
